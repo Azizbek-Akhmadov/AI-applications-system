{
  "nbformat": 4,
  "nbformat_minor": 0,
  "metadata": {
    "colab": {
      "provenance": [],
      "authorship_tag": "ABX9TyMS/Ag3F3mTJBpdCts++grr",
      "include_colab_link": true
    },
    "kernelspec": {
      "name": "python3",
      "display_name": "Python 3"
    },
    "language_info": {
      "name": "python"
    },
    "widgets": {
      "application/vnd.jupyter.widget-state+json": {
        "eb8417455b3148859b521e289d1e3622": {
          "model_module": "@jupyter-widgets/controls",
          "model_name": "HBoxModel",
          "model_module_version": "1.5.0",
          "state": {
            "_dom_classes": [],
            "_model_module": "@jupyter-widgets/controls",
            "_model_module_version": "1.5.0",
            "_model_name": "HBoxModel",
            "_view_count": null,
            "_view_module": "@jupyter-widgets/controls",
            "_view_module_version": "1.5.0",
            "_view_name": "HBoxView",
            "box_style": "",
            "children": [
              "IPY_MODEL_17807e73c27f48acab84b388382cfb16",
              "IPY_MODEL_ef0e1131f76e4b5097ef7969bb2f9906",
              "IPY_MODEL_a64780a127764780985381b7ee0acaec"
            ],
            "layout": "IPY_MODEL_b6e95bdb1a4a43c1a76eb8b6736b26a1"
          }
        },
        "17807e73c27f48acab84b388382cfb16": {
          "model_module": "@jupyter-widgets/controls",
          "model_name": "HTMLModel",
          "model_module_version": "1.5.0",
          "state": {
            "_dom_classes": [],
            "_model_module": "@jupyter-widgets/controls",
            "_model_module_version": "1.5.0",
            "_model_name": "HTMLModel",
            "_view_count": null,
            "_view_module": "@jupyter-widgets/controls",
            "_view_module_version": "1.5.0",
            "_view_name": "HTMLView",
            "description": "",
            "description_tooltip": null,
            "layout": "IPY_MODEL_81bd67276602414496b95bb5b09eccbe",
            "placeholder": "​",
            "style": "IPY_MODEL_18930bc971974960b2528c6287901ce7",
            "value": "100%"
          }
        },
        "ef0e1131f76e4b5097ef7969bb2f9906": {
          "model_module": "@jupyter-widgets/controls",
          "model_name": "FloatProgressModel",
          "model_module_version": "1.5.0",
          "state": {
            "_dom_classes": [],
            "_model_module": "@jupyter-widgets/controls",
            "_model_module_version": "1.5.0",
            "_model_name": "FloatProgressModel",
            "_view_count": null,
            "_view_module": "@jupyter-widgets/controls",
            "_view_module_version": "1.5.0",
            "_view_name": "ProgressView",
            "bar_style": "success",
            "description": "",
            "description_tooltip": null,
            "layout": "IPY_MODEL_7cf8bf90e4404116af08acfe6662d139",
            "max": 102530333,
            "min": 0,
            "orientation": "horizontal",
            "style": "IPY_MODEL_b858d6f1ff5845b08e1f99e2137b5842",
            "value": 102530333
          }
        },
        "a64780a127764780985381b7ee0acaec": {
          "model_module": "@jupyter-widgets/controls",
          "model_name": "HTMLModel",
          "model_module_version": "1.5.0",
          "state": {
            "_dom_classes": [],
            "_model_module": "@jupyter-widgets/controls",
            "_model_module_version": "1.5.0",
            "_model_name": "HTMLModel",
            "_view_count": null,
            "_view_module": "@jupyter-widgets/controls",
            "_view_module_version": "1.5.0",
            "_view_name": "HTMLView",
            "description": "",
            "description_tooltip": null,
            "layout": "IPY_MODEL_8219d93866984a7090dfdd9ffc21f02d",
            "placeholder": "​",
            "style": "IPY_MODEL_4687170c70c34ebe8e0234952e238505",
            "value": " 97.8M/97.8M [00:03&lt;00:00, 30.0MB/s]"
          }
        },
        "b6e95bdb1a4a43c1a76eb8b6736b26a1": {
          "model_module": "@jupyter-widgets/base",
          "model_name": "LayoutModel",
          "model_module_version": "1.2.0",
          "state": {
            "_model_module": "@jupyter-widgets/base",
            "_model_module_version": "1.2.0",
            "_model_name": "LayoutModel",
            "_view_count": null,
            "_view_module": "@jupyter-widgets/base",
            "_view_module_version": "1.2.0",
            "_view_name": "LayoutView",
            "align_content": null,
            "align_items": null,
            "align_self": null,
            "border": null,
            "bottom": null,
            "display": null,
            "flex": null,
            "flex_flow": null,
            "grid_area": null,
            "grid_auto_columns": null,
            "grid_auto_flow": null,
            "grid_auto_rows": null,
            "grid_column": null,
            "grid_gap": null,
            "grid_row": null,
            "grid_template_areas": null,
            "grid_template_columns": null,
            "grid_template_rows": null,
            "height": null,
            "justify_content": null,
            "justify_items": null,
            "left": null,
            "margin": null,
            "max_height": null,
            "max_width": null,
            "min_height": null,
            "min_width": null,
            "object_fit": null,
            "object_position": null,
            "order": null,
            "overflow": null,
            "overflow_x": null,
            "overflow_y": null,
            "padding": null,
            "right": null,
            "top": null,
            "visibility": null,
            "width": null
          }
        },
        "81bd67276602414496b95bb5b09eccbe": {
          "model_module": "@jupyter-widgets/base",
          "model_name": "LayoutModel",
          "model_module_version": "1.2.0",
          "state": {
            "_model_module": "@jupyter-widgets/base",
            "_model_module_version": "1.2.0",
            "_model_name": "LayoutModel",
            "_view_count": null,
            "_view_module": "@jupyter-widgets/base",
            "_view_module_version": "1.2.0",
            "_view_name": "LayoutView",
            "align_content": null,
            "align_items": null,
            "align_self": null,
            "border": null,
            "bottom": null,
            "display": null,
            "flex": null,
            "flex_flow": null,
            "grid_area": null,
            "grid_auto_columns": null,
            "grid_auto_flow": null,
            "grid_auto_rows": null,
            "grid_column": null,
            "grid_gap": null,
            "grid_row": null,
            "grid_template_areas": null,
            "grid_template_columns": null,
            "grid_template_rows": null,
            "height": null,
            "justify_content": null,
            "justify_items": null,
            "left": null,
            "margin": null,
            "max_height": null,
            "max_width": null,
            "min_height": null,
            "min_width": null,
            "object_fit": null,
            "object_position": null,
            "order": null,
            "overflow": null,
            "overflow_x": null,
            "overflow_y": null,
            "padding": null,
            "right": null,
            "top": null,
            "visibility": null,
            "width": null
          }
        },
        "18930bc971974960b2528c6287901ce7": {
          "model_module": "@jupyter-widgets/controls",
          "model_name": "DescriptionStyleModel",
          "model_module_version": "1.5.0",
          "state": {
            "_model_module": "@jupyter-widgets/controls",
            "_model_module_version": "1.5.0",
            "_model_name": "DescriptionStyleModel",
            "_view_count": null,
            "_view_module": "@jupyter-widgets/base",
            "_view_module_version": "1.2.0",
            "_view_name": "StyleView",
            "description_width": ""
          }
        },
        "7cf8bf90e4404116af08acfe6662d139": {
          "model_module": "@jupyter-widgets/base",
          "model_name": "LayoutModel",
          "model_module_version": "1.2.0",
          "state": {
            "_model_module": "@jupyter-widgets/base",
            "_model_module_version": "1.2.0",
            "_model_name": "LayoutModel",
            "_view_count": null,
            "_view_module": "@jupyter-widgets/base",
            "_view_module_version": "1.2.0",
            "_view_name": "LayoutView",
            "align_content": null,
            "align_items": null,
            "align_self": null,
            "border": null,
            "bottom": null,
            "display": null,
            "flex": null,
            "flex_flow": null,
            "grid_area": null,
            "grid_auto_columns": null,
            "grid_auto_flow": null,
            "grid_auto_rows": null,
            "grid_column": null,
            "grid_gap": null,
            "grid_row": null,
            "grid_template_areas": null,
            "grid_template_columns": null,
            "grid_template_rows": null,
            "height": null,
            "justify_content": null,
            "justify_items": null,
            "left": null,
            "margin": null,
            "max_height": null,
            "max_width": null,
            "min_height": null,
            "min_width": null,
            "object_fit": null,
            "object_position": null,
            "order": null,
            "overflow": null,
            "overflow_x": null,
            "overflow_y": null,
            "padding": null,
            "right": null,
            "top": null,
            "visibility": null,
            "width": null
          }
        },
        "b858d6f1ff5845b08e1f99e2137b5842": {
          "model_module": "@jupyter-widgets/controls",
          "model_name": "ProgressStyleModel",
          "model_module_version": "1.5.0",
          "state": {
            "_model_module": "@jupyter-widgets/controls",
            "_model_module_version": "1.5.0",
            "_model_name": "ProgressStyleModel",
            "_view_count": null,
            "_view_module": "@jupyter-widgets/base",
            "_view_module_version": "1.2.0",
            "_view_name": "StyleView",
            "bar_color": null,
            "description_width": ""
          }
        },
        "8219d93866984a7090dfdd9ffc21f02d": {
          "model_module": "@jupyter-widgets/base",
          "model_name": "LayoutModel",
          "model_module_version": "1.2.0",
          "state": {
            "_model_module": "@jupyter-widgets/base",
            "_model_module_version": "1.2.0",
            "_model_name": "LayoutModel",
            "_view_count": null,
            "_view_module": "@jupyter-widgets/base",
            "_view_module_version": "1.2.0",
            "_view_name": "LayoutView",
            "align_content": null,
            "align_items": null,
            "align_self": null,
            "border": null,
            "bottom": null,
            "display": null,
            "flex": null,
            "flex_flow": null,
            "grid_area": null,
            "grid_auto_columns": null,
            "grid_auto_flow": null,
            "grid_auto_rows": null,
            "grid_column": null,
            "grid_gap": null,
            "grid_row": null,
            "grid_template_areas": null,
            "grid_template_columns": null,
            "grid_template_rows": null,
            "height": null,
            "justify_content": null,
            "justify_items": null,
            "left": null,
            "margin": null,
            "max_height": null,
            "max_width": null,
            "min_height": null,
            "min_width": null,
            "object_fit": null,
            "object_position": null,
            "order": null,
            "overflow": null,
            "overflow_x": null,
            "overflow_y": null,
            "padding": null,
            "right": null,
            "top": null,
            "visibility": null,
            "width": null
          }
        },
        "4687170c70c34ebe8e0234952e238505": {
          "model_module": "@jupyter-widgets/controls",
          "model_name": "DescriptionStyleModel",
          "model_module_version": "1.5.0",
          "state": {
            "_model_module": "@jupyter-widgets/controls",
            "_model_module_version": "1.5.0",
            "_model_name": "DescriptionStyleModel",
            "_view_count": null,
            "_view_module": "@jupyter-widgets/base",
            "_view_module_version": "1.2.0",
            "_view_name": "StyleView",
            "description_width": ""
          }
        }
      }
    }
  },
  "cells": [
    {
      "cell_type": "markdown",
      "metadata": {
        "id": "view-in-github",
        "colab_type": "text"
      },
      "source": [
        "<a href=\"https://colab.research.google.com/github/Azizbek-Akhmadov/Mid-term-exam-AI-applications-system/blob/main/AI_application_week_10.ipynb\" target=\"_parent\"><img src=\"https://colab.research.google.com/assets/colab-badge.svg\" alt=\"Open In Colab\"/></a>"
      ]
    },
    {
      "cell_type": "code",
      "execution_count": 2,
      "metadata": {
        "id": "oChvw7m9BnVt"
      },
      "outputs": [],
      "source": [
        "import torch\n",
        "import torchvision\n",
        "from torchvision import transforms\n",
        "from PIL import Image\n",
        "\n",
        "device = torch.device('cuda:0' if torch.cuda.is_available() else 'cpu')"
      ]
    },
    {
      "cell_type": "code",
      "source": [
        "import numpy as np\n",
        "from tensorflow.keras.applications import resnet50\n",
        "from tensorflow.keras.preprocessing.image import load_img\n",
        "from tensorflow.keras.preprocessing.image import img_to_array\n",
        "from tensorflow.keras.applications.resnet50 import \\\n",
        "decode_predictions\n",
        "import matplotlib.pyplot as plt\n",
        "import tensorflow as tf\n",
        "import logging\n",
        "tf.get_logger().setLevel(logging.ERROR)"
      ],
      "metadata": {
        "id": "nIAMeG1VB2Ps"
      },
      "execution_count": 1,
      "outputs": []
    },
    {
      "cell_type": "code",
      "source": [
        "# Load image and convert to 4-dimensional tensor.\n",
        "image = load_img('/content/dog.jpeg', target_size=(224, 224))\n",
        "image_np = img_to_array(image)\n",
        "image_np = np.expand_dims(image_np, axis=0)"
      ],
      "metadata": {
        "id": "hpLXgSf0sOo1"
      },
      "execution_count": 3,
      "outputs": []
    },
    {
      "cell_type": "code",
      "source": [
        "# Load and preprocess image.\n",
        "image = Image.open('/content/dog.jpeg')\n",
        "preprocess = transforms.Compose([\n",
        "    transforms.Resize((224, 224)),\n",
        "    transforms.ToTensor(),\n",
        "    transforms.Normalize(mean=[0.485, 0.456, 0.406], std=[0.229, 0.224, 0.225])\n",
        "]) # Parameters are documented at pytorch.org.\n",
        "input_tensor = preprocess(image)\n",
        "\n",
        "# Convert to 4-dimensional tensor.\n",
        "inputs = input_tensor.unsqueeze(0)"
      ],
      "metadata": {
        "id": "WROFljWNAwic"
      },
      "execution_count": 4,
      "outputs": []
    },
    {
      "cell_type": "code",
      "source": [
        "# Load the pre-trained model.\n",
        "model = torchvision.models.resnet50(weights=torchvision.models.ResNet50_Weights.IMAGENET1K_V1)\n",
        "model.eval()\n",
        "\n",
        "# Transfer model to GPU.\n",
        "model.to(device)\n",
        "\n",
        "# Do prediction.\n",
        "inputs = inputs.to(device)\n",
        "with torch.no_grad():\n",
        "    outputs = model(inputs)\n",
        "\n",
        "# Convert to probabilities, since final SoftMax activation is not in pretrained model.\n",
        "probabilities = torch.nn.functional.softmax(outputs[0], dim=0)\n",
        "\n",
        "# Print class ID for top 5 predictions.\n",
        "_, indices = torch.sort(probabilities, descending=True)\n",
        "for i in range(0, 5):\n",
        "    print('ImageNet class:', indices[i].item(), ', probability = %4.3f' % probabilities[indices[i]].item())\n",
        "\n",
        "# Show image.\n",
        "image.show()"
      ],
      "metadata": {
        "colab": {
          "base_uri": "https://localhost:8080/",
          "height": 179,
          "referenced_widgets": [
            "eb8417455b3148859b521e289d1e3622",
            "17807e73c27f48acab84b388382cfb16",
            "ef0e1131f76e4b5097ef7969bb2f9906",
            "a64780a127764780985381b7ee0acaec",
            "b6e95bdb1a4a43c1a76eb8b6736b26a1",
            "81bd67276602414496b95bb5b09eccbe",
            "18930bc971974960b2528c6287901ce7",
            "7cf8bf90e4404116af08acfe6662d139",
            "b858d6f1ff5845b08e1f99e2137b5842",
            "8219d93866984a7090dfdd9ffc21f02d",
            "4687170c70c34ebe8e0234952e238505"
          ]
        },
        "id": "KQYIN0fLA3hE",
        "outputId": "0cae5713-16be-4efa-dc4f-102c5a8fd397"
      },
      "execution_count": 5,
      "outputs": [
        {
          "output_type": "stream",
          "name": "stderr",
          "text": [
            "Downloading: \"https://download.pytorch.org/models/resnet50-0676ba61.pth\" to /root/.cache/torch/hub/checkpoints/resnet50-0676ba61.pth\n"
          ]
        },
        {
          "output_type": "display_data",
          "data": {
            "text/plain": [
              "  0%|          | 0.00/97.8M [00:00<?, ?B/s]"
            ],
            "application/vnd.jupyter.widget-view+json": {
              "version_major": 2,
              "version_minor": 0,
              "model_id": "eb8417455b3148859b521e289d1e3622"
            }
          },
          "metadata": {}
        },
        {
          "output_type": "stream",
          "name": "stdout",
          "text": [
            "ImageNet class: 207 , probability = 0.983\n",
            "ImageNet class: 852 , probability = 0.004\n",
            "ImageNet class: 215 , probability = 0.003\n",
            "ImageNet class: 208 , probability = 0.002\n",
            "ImageNet class: 168 , probability = 0.002\n"
          ]
        }
      ]
    },
    {
      "cell_type": "code",
      "source": [
        "from tensorflow import keras\n",
        "from tensorflow.keras import layers\n",
        "\n",
        "model = keras.Sequential([\n",
        "    layers.Dense(64, activation=\"relu\"),\n",
        "    layers.Dense(10, activation=\"softmax\")\n",
        "])"
      ],
      "metadata": {
        "id": "aw6quolTBQyO"
      },
      "execution_count": 6,
      "outputs": []
    },
    {
      "cell_type": "code",
      "source": [
        "model.build(input_shape=(None, 3))\n",
        "model.weights"
      ],
      "metadata": {
        "colab": {
          "base_uri": "https://localhost:8080/"
        },
        "id": "jETbGyn_BTZ-",
        "outputId": "9fed86bc-fd22-43ff-b0fa-89327a6e405e"
      },
      "execution_count": 7,
      "outputs": [
        {
          "output_type": "execute_result",
          "data": {
            "text/plain": [
              "[<tf.Variable 'dense/kernel:0' shape=(3, 64) dtype=float32, numpy=\n",
              " array([[ 0.15644145, -0.14459284,  0.27245486, -0.12221694,  0.0091055 ,\n",
              "          0.10008818, -0.26093367,  0.1935817 , -0.00301999,  0.01747984,\n",
              "         -0.14594024, -0.2529031 ,  0.09133148,  0.28038365, -0.07313953,\n",
              "         -0.15637559, -0.05446135,  0.1260463 , -0.2680657 , -0.17060848,\n",
              "         -0.0388504 ,  0.23737162, -0.08360706, -0.06657836, -0.0343889 ,\n",
              "         -0.12768514, -0.2829228 , -0.28002146, -0.29531792, -0.15926608,\n",
              "          0.19285354,  0.179939  ,  0.00379932,  0.14889717, -0.11819743,\n",
              "         -0.11520277,  0.01650158,  0.24117714, -0.13148782,  0.06184137,\n",
              "         -0.15626128,  0.15617526,  0.00374937,  0.27665514,  0.18408358,\n",
              "         -0.06214389,  0.23423761,  0.23916495, -0.19867691, -0.035355  ,\n",
              "         -0.18876153,  0.2935289 , -0.16053522,  0.22057664,  0.2818641 ,\n",
              "          0.05846936,  0.23073834,  0.0531621 , -0.28198844, -0.12214765,\n",
              "          0.21951091, -0.23017666,  0.24865001, -0.1685658 ],\n",
              "        [-0.18904221, -0.17254691,  0.0247637 ,  0.13510883, -0.14370885,\n",
              "         -0.21862122, -0.04186174,  0.22983837,  0.09570473, -0.14748333,\n",
              "         -0.15753412,  0.12156096,  0.28201854,  0.03871313,  0.06893387,\n",
              "          0.10917285, -0.1003757 , -0.15652955, -0.11445256, -0.27438244,\n",
              "          0.03533483, -0.00896016, -0.10782452, -0.02382648, -0.27880242,\n",
              "          0.04100329,  0.14379376,  0.14744481,  0.2919019 , -0.24935028,\n",
              "         -0.10354303, -0.06265703,  0.11894172,  0.02771199, -0.07731971,\n",
              "         -0.27078554, -0.02190474, -0.05770923, -0.28842184,  0.22463661,\n",
              "          0.14736947, -0.15855603,  0.05084077,  0.29203123, -0.04120427,\n",
              "         -0.00505996,  0.2236867 , -0.1736712 ,  0.10623989, -0.10101476,\n",
              "         -0.13695402, -0.25661108, -0.06517844,  0.12162453, -0.13272077,\n",
              "          0.2040171 ,  0.28403568,  0.16725993,  0.13861144, -0.1642843 ,\n",
              "          0.2660476 ,  0.03450739,  0.02684274,  0.02402326],\n",
              "        [ 0.19712925, -0.00065804,  0.16221508,  0.23619372, -0.12332846,\n",
              "         -0.2618836 , -0.08426167,  0.2808861 ,  0.08123434,  0.2002146 ,\n",
              "          0.01993877,  0.11329702,  0.23474687, -0.14858815,  0.21488833,\n",
              "         -0.08010598,  0.15831146,  0.29718524, -0.18064806,  0.16539162,\n",
              "         -0.21865518, -0.27046847, -0.04640594, -0.21639505,  0.018013  ,\n",
              "          0.03024432, -0.10463186,  0.27785146, -0.05597234, -0.25262475,\n",
              "          0.00137043,  0.15538877,  0.08852747,  0.06280673, -0.07101567,\n",
              "         -0.06829441,  0.00704777, -0.08733931, -0.13152671, -0.09746687,\n",
              "          0.2874413 , -0.16361079,  0.19774011,  0.23568898, -0.16857414,\n",
              "         -0.03117418, -0.04468489,  0.18854499,  0.13387689, -0.06827599,\n",
              "          0.02889258,  0.23770672,  0.24209142,  0.19517574,  0.20719057,\n",
              "          0.28022015, -0.00602686,  0.03138489, -0.08737414,  0.24755335,\n",
              "          0.12502182, -0.24811211, -0.22836071,  0.11279759]],\n",
              "       dtype=float32)>,\n",
              " <tf.Variable 'dense/bias:0' shape=(64,) dtype=float32, numpy=\n",
              " array([0., 0., 0., 0., 0., 0., 0., 0., 0., 0., 0., 0., 0., 0., 0., 0., 0.,\n",
              "        0., 0., 0., 0., 0., 0., 0., 0., 0., 0., 0., 0., 0., 0., 0., 0., 0.,\n",
              "        0., 0., 0., 0., 0., 0., 0., 0., 0., 0., 0., 0., 0., 0., 0., 0., 0.,\n",
              "        0., 0., 0., 0., 0., 0., 0., 0., 0., 0., 0., 0., 0.], dtype=float32)>,\n",
              " <tf.Variable 'dense_1/kernel:0' shape=(64, 10) dtype=float32, numpy=\n",
              " array([[-3.01536024e-02, -2.17316166e-01, -1.32688582e-02,\n",
              "         -8.19858313e-02, -2.26565450e-01,  2.07153380e-01,\n",
              "         -1.83139995e-01, -3.55422348e-02, -8.72132778e-02,\n",
              "         -7.30930418e-02],\n",
              "        [ 2.62587368e-02, -1.01051629e-02, -1.18918091e-01,\n",
              "         -2.72650242e-01,  2.81105846e-01,  1.12684935e-01,\n",
              "         -1.74988955e-01,  1.93602711e-01,  2.13387907e-01,\n",
              "         -4.67022508e-02],\n",
              "        [ 2.71631569e-01, -1.89306438e-01,  2.35392064e-01,\n",
              "          9.79667902e-02, -1.20594680e-01, -2.13730812e-01,\n",
              "         -5.27658910e-02,  1.57441616e-01,  6.29379153e-02,\n",
              "          2.22052783e-01],\n",
              "        [-1.80601895e-01,  7.93586671e-02,  1.66785717e-02,\n",
              "          1.89215034e-01,  1.55704319e-02,  2.96571255e-02,\n",
              "         -1.03103191e-01, -1.83762193e-01,  8.93350244e-02,\n",
              "          2.11447477e-03],\n",
              "        [-3.61575782e-02,  1.01767004e-01, -2.66028345e-01,\n",
              "         -2.34908462e-02, -6.82127625e-02, -1.63142860e-01,\n",
              "          2.04779088e-01, -2.32409671e-01, -2.21070290e-01,\n",
              "          2.58007199e-01],\n",
              "        [ 1.70655459e-01,  2.30957180e-01, -1.86110616e-01,\n",
              "         -1.47257775e-01,  1.75403297e-01,  4.82308269e-02,\n",
              "         -1.21721298e-01,  7.67993629e-02,  1.78857684e-01,\n",
              "         -6.73673451e-02],\n",
              "        [-1.39807835e-01, -1.26267418e-01, -1.66483954e-01,\n",
              "          2.33583957e-01,  1.83213592e-01,  1.31445944e-01,\n",
              "         -8.05287212e-02, -1.96591467e-01, -1.46234035e-03,\n",
              "          5.00703752e-02],\n",
              "        [-3.13514471e-02, -1.54618099e-01,  1.96152925e-03,\n",
              "          2.71816880e-01,  3.23124230e-02,  1.86861008e-01,\n",
              "         -1.33923337e-01, -2.06337348e-01,  7.53776431e-02,\n",
              "          1.19119853e-01],\n",
              "        [-1.90299094e-01, -7.59160072e-02,  1.49132729e-01,\n",
              "         -1.66289657e-01, -5.15663028e-02,  1.29794002e-01,\n",
              "         -1.82425380e-02,  2.28116125e-01,  7.58149922e-02,\n",
              "         -2.75111705e-01],\n",
              "        [ 1.62692219e-01,  2.18537182e-01,  2.43776411e-01,\n",
              "          2.38807172e-01, -3.89911979e-02,  2.16221124e-01,\n",
              "         -2.22133979e-01, -5.04092574e-02,  2.23197013e-01,\n",
              "         -1.63892210e-02],\n",
              "        [-9.87469554e-02, -8.59441608e-02, -2.37383425e-01,\n",
              "         -4.06503379e-02,  2.65148789e-01, -1.68617100e-01,\n",
              "         -3.41473818e-02, -2.08297521e-01, -2.57663518e-01,\n",
              "          1.08831346e-01],\n",
              "        [-1.76933914e-01,  4.18380499e-02,  2.55608648e-01,\n",
              "          2.14421183e-01, -1.92395031e-01, -1.44907519e-01,\n",
              "         -1.47063434e-02,  2.15735346e-01,  2.67991990e-01,\n",
              "         -1.49950936e-01],\n",
              "        [-1.91451788e-01,  2.72676975e-01,  1.77821845e-01,\n",
              "         -3.99404764e-03,  2.76222318e-01,  6.64435625e-02,\n",
              "          1.52152032e-01, -2.80050427e-01,  1.80790216e-01,\n",
              "         -2.56151646e-01],\n",
              "        [-2.11807787e-01, -1.41701058e-01, -8.26598257e-02,\n",
              "          2.39724666e-01, -2.58306265e-02, -1.13862395e-01,\n",
              "          7.94718862e-02,  7.88401067e-02, -3.69718373e-02,\n",
              "         -5.87961078e-03],\n",
              "        [-5.42771071e-02,  7.99434483e-02, -2.41917372e-03,\n",
              "          2.34816402e-01,  7.65488744e-02, -3.83227021e-02,\n",
              "          1.23864084e-01,  2.70383030e-01,  1.05118543e-01,\n",
              "          1.95454389e-01],\n",
              "        [-2.62933195e-01, -2.63121068e-01,  2.77036577e-01,\n",
              "          1.10149473e-01,  2.63221592e-01, -4.99692112e-02,\n",
              "          7.90888071e-02,  1.02619350e-01,  5.52383363e-02,\n",
              "         -2.49428451e-02],\n",
              "        [ 1.32991165e-01,  8.78551900e-02, -2.26903126e-01,\n",
              "          1.34330064e-01, -5.41831553e-02, -1.10202894e-01,\n",
              "          1.03506804e-01,  3.03075016e-02, -2.62271762e-02,\n",
              "          5.11005819e-02],\n",
              "        [-2.24691153e-01, -2.63903469e-01, -1.83472246e-01,\n",
              "         -7.70878345e-02, -1.13107055e-01,  1.84477687e-01,\n",
              "          1.16135061e-01,  2.63879329e-01,  2.82287747e-01,\n",
              "          2.41302580e-01],\n",
              "        [ 7.91154802e-02,  2.52397925e-01, -1.51775047e-01,\n",
              "         -8.74614865e-02, -1.26633003e-01,  2.19719857e-01,\n",
              "          1.13718063e-01, -1.63738459e-01, -1.54318228e-01,\n",
              "          6.68089390e-02],\n",
              "        [-2.76345640e-01,  6.34643435e-02, -1.77240908e-01,\n",
              "          2.49637693e-01, -2.53164858e-01,  1.58261776e-01,\n",
              "         -1.11718252e-01,  7.32999742e-02, -1.94770277e-01,\n",
              "         -1.55517086e-01],\n",
              "        [-2.35468820e-01, -2.10621759e-01,  1.41925156e-01,\n",
              "         -1.87373757e-01, -7.28231072e-02,  1.98105872e-02,\n",
              "         -2.05981880e-01,  2.25651473e-01,  2.59569556e-01,\n",
              "         -5.29160649e-02],\n",
              "        [-8.76144469e-02, -9.07114744e-02,  2.02663660e-01,\n",
              "          1.75639600e-01,  1.09063923e-01,  1.02163941e-01,\n",
              "          1.97356850e-01,  5.80283105e-02,  2.07678080e-02,\n",
              "         -2.83956349e-01],\n",
              "        [-5.63498288e-02, -1.06971994e-01,  2.38093346e-01,\n",
              "         -1.99251771e-02,  2.96187401e-03,  2.36752123e-01,\n",
              "          7.99888670e-02, -1.26648754e-01, -2.46897951e-01,\n",
              "          1.90217435e-01],\n",
              "        [-2.50429600e-01,  2.76851624e-01, -1.84600651e-02,\n",
              "          1.66124344e-01, -9.97635275e-02,  1.01114720e-01,\n",
              "          2.15898484e-01,  9.99895930e-02,  1.34124637e-01,\n",
              "         -1.52607635e-01],\n",
              "        [-3.71731967e-02, -2.57848173e-01,  3.82358134e-02,\n",
              "          4.26701903e-02, -2.05520242e-01,  1.63959771e-01,\n",
              "         -2.56376147e-01,  4.83772159e-03, -1.23514041e-01,\n",
              "          7.45747089e-02],\n",
              "        [ 1.42623931e-01, -2.20641792e-01,  1.59231842e-01,\n",
              "          8.78997743e-02,  2.13979274e-01, -1.63194865e-01,\n",
              "         -1.37270063e-01, -1.65934533e-01,  2.73560286e-02,\n",
              "         -2.83562809e-01],\n",
              "        [ 1.69663608e-01, -1.15921259e-01,  2.01146632e-01,\n",
              "          6.48685396e-02, -2.51179099e-01,  3.20338011e-02,\n",
              "         -2.83381730e-01, -1.15390241e-01,  1.79449260e-01,\n",
              "          2.07442909e-01],\n",
              "        [-5.05403578e-02,  3.85325551e-02,  2.72255272e-01,\n",
              "          1.63891613e-02, -2.75847465e-01, -2.82844990e-01,\n",
              "         -7.05021918e-02,  2.43330330e-01,  1.79599524e-01,\n",
              "         -2.16991395e-01],\n",
              "        [-1.60773337e-01, -2.11954296e-01,  1.66847080e-01,\n",
              "         -2.24235758e-01,  2.26906985e-01, -7.75667280e-02,\n",
              "          1.20979548e-01,  6.54488504e-02,  1.96238995e-01,\n",
              "         -2.36998230e-01],\n",
              "        [ 8.32349062e-02, -6.24028146e-02,  5.07381260e-02,\n",
              "          3.57726514e-02, -1.56641006e-03, -1.77456319e-01,\n",
              "          4.91227508e-02,  1.75903976e-01,  6.03786111e-03,\n",
              "          2.68938392e-01],\n",
              "        [-2.44224817e-01,  1.59017980e-01,  1.40442669e-01,\n",
              "         -1.01101145e-01,  4.39980328e-02,  1.36068851e-01,\n",
              "         -9.58941877e-02,  1.40412390e-01, -1.99767053e-01,\n",
              "         -4.60010767e-03],\n",
              "        [ 3.86545360e-02, -2.26173997e-01, -9.39403474e-02,\n",
              "         -1.00369170e-01,  1.94486231e-01, -1.96195394e-01,\n",
              "          1.32315159e-02,  5.03121912e-02,  6.75037205e-02,\n",
              "         -6.78655058e-02],\n",
              "        [-2.72055477e-01, -7.05935657e-02, -1.49390161e-01,\n",
              "         -1.44468486e-01, -1.69341341e-01, -2.07126498e-01,\n",
              "          4.72577810e-02, -1.22593269e-01, -1.84153855e-01,\n",
              "          1.49605095e-01],\n",
              "        [ 1.57153815e-01, -7.09448308e-02, -1.45912483e-01,\n",
              "         -1.36046156e-01, -4.16583568e-02,  1.96335047e-01,\n",
              "          2.03518331e-01, -1.28952771e-01, -3.20921242e-02,\n",
              "          8.29439461e-02],\n",
              "        [ 1.17521286e-02,  1.23679638e-04,  1.42319173e-01,\n",
              "         -8.21818262e-02, -1.61332399e-01,  9.98045206e-02,\n",
              "          1.34106100e-01, -1.54847980e-01, -4.49034572e-02,\n",
              "          8.45023394e-02],\n",
              "        [ 4.32830751e-02, -1.12290427e-01, -9.18524116e-02,\n",
              "          7.77583718e-02,  2.62147933e-01, -7.99346268e-02,\n",
              "         -5.24874181e-02,  1.92158997e-01,  1.46121979e-01,\n",
              "          5.63128889e-02],\n",
              "        [-1.75568998e-01,  8.70191157e-02, -1.28839403e-01,\n",
              "         -8.60795379e-02, -2.69173235e-01,  1.74430698e-01,\n",
              "          2.59137481e-01, -1.91797480e-01,  1.54944301e-01,\n",
              "         -9.86509025e-02],\n",
              "        [ 5.74319065e-02, -2.35862240e-01,  1.90734148e-01,\n",
              "         -2.43682593e-01, -9.95239615e-03, -5.67981601e-02,\n",
              "         -2.35524774e-02, -1.97843552e-01,  1.64635330e-01,\n",
              "          2.19432920e-01],\n",
              "        [-1.43183008e-01,  1.37786418e-01, -2.12576762e-01,\n",
              "          1.45876646e-01, -1.88381642e-01,  1.87216252e-01,\n",
              "          2.62949258e-01, -2.57889241e-01,  7.14598894e-02,\n",
              "         -1.70979843e-01],\n",
              "        [ 2.15263754e-01, -1.71560019e-01, -8.42697471e-02,\n",
              "          2.56166548e-01,  1.21368140e-01, -2.82996863e-01,\n",
              "         -2.25922331e-01,  1.33991152e-01, -1.01933464e-01,\n",
              "          1.06038451e-01],\n",
              "        [ 1.95023358e-01, -2.95502245e-02, -1.88600510e-01,\n",
              "         -1.58467755e-01, -1.42138317e-01,  2.17507631e-01,\n",
              "          5.70755601e-02, -4.09540087e-02, -1.27576798e-01,\n",
              "         -2.19278932e-02],\n",
              "        [-2.44205937e-01,  2.41490632e-01,  2.57011324e-01,\n",
              "         -1.57505766e-01,  1.16906196e-01,  1.13584399e-02,\n",
              "          5.76465130e-02, -1.37768373e-01, -1.65654823e-01,\n",
              "         -1.62989974e-01],\n",
              "        [-5.37980199e-02,  1.52139068e-01,  1.26323998e-02,\n",
              "         -2.79216766e-02, -7.52413869e-02, -8.96418840e-02,\n",
              "         -2.31865063e-01, -5.88449538e-02, -2.74587393e-01,\n",
              "         -2.40455821e-01],\n",
              "        [ 2.24425167e-01,  2.40361691e-03, -1.74164921e-01,\n",
              "         -1.82649225e-01,  1.68582737e-01, -2.60008961e-01,\n",
              "         -9.70711857e-02, -2.10715860e-01,  9.38888192e-02,\n",
              "          1.37903094e-02],\n",
              "        [-9.96847153e-02,  6.38530552e-02, -1.60145164e-01,\n",
              "          1.95453852e-01, -1.17093578e-01, -1.96214914e-02,\n",
              "         -5.05594313e-02, -8.46019983e-02, -2.01646090e-02,\n",
              "          1.23334885e-01],\n",
              "        [-1.80910721e-01, -9.05761123e-03,  2.77933925e-01,\n",
              "         -2.52485275e-04,  2.87143588e-02,  1.98714346e-01,\n",
              "         -1.56004131e-01,  3.37785482e-02, -8.00743401e-02,\n",
              "          1.01516634e-01],\n",
              "        [-2.37219617e-01, -1.52081355e-01,  1.67261004e-01,\n",
              "          7.56731629e-03,  2.13029593e-01,  1.13916397e-02,\n",
              "         -2.20540553e-01,  1.27189964e-01, -5.93441427e-02,\n",
              "          1.15833700e-01],\n",
              "        [-2.97605395e-02,  2.74330884e-01,  2.28747040e-01,\n",
              "         -2.07208708e-01, -1.87103748e-02, -8.79278779e-03,\n",
              "         -2.04622209e-01,  2.28114128e-02,  2.27904916e-02,\n",
              "         -2.47870177e-01],\n",
              "        [ 2.32221752e-01,  1.30400360e-01,  1.33543104e-01,\n",
              "          1.35026604e-01, -1.37595057e-01,  1.09983832e-01,\n",
              "          1.27526343e-01,  1.79902971e-01,  1.54497266e-01,\n",
              "          3.50424349e-02],\n",
              "        [ 3.22346091e-02, -2.19952300e-01, -3.14555764e-02,\n",
              "         -2.09724128e-01,  1.76679075e-01,  1.20306760e-01,\n",
              "         -2.13995278e-02, -1.80988863e-01, -2.84235507e-01,\n",
              "          2.74227858e-02],\n",
              "        [ 1.25408411e-01,  1.75603688e-01, -2.15942904e-01,\n",
              "          1.86288953e-01, -2.33474925e-01, -8.66823196e-02,\n",
              "         -7.95429796e-02,  1.27646983e-01, -1.02465317e-01,\n",
              "          1.21144116e-01],\n",
              "        [ 2.02841461e-01,  4.66340780e-02,  1.30520254e-01,\n",
              "         -2.80412436e-02,  1.07708991e-01,  9.82665122e-02,\n",
              "         -2.65027374e-01,  1.59336179e-01,  2.63881475e-01,\n",
              "          2.37097293e-01],\n",
              "        [ 1.75328076e-01,  2.59458423e-02, -1.71194300e-01,\n",
              "          1.24280512e-01, -1.30833089e-02,  4.41855192e-02,\n",
              "         -8.30761194e-02,  3.71897817e-02, -1.43398345e-01,\n",
              "         -8.97547752e-02],\n",
              "        [ 1.18182451e-01,  2.34079987e-01, -1.26966834e-03,\n",
              "         -8.18065256e-02,  1.41587347e-01, -1.98833168e-01,\n",
              "          1.13341957e-01,  2.93640494e-02,  1.40640080e-01,\n",
              "         -1.24078810e-01],\n",
              "        [-4.88446951e-02,  7.49406517e-02,  1.24013990e-01,\n",
              "          9.58455801e-02,  1.95848435e-01,  8.70141387e-03,\n",
              "         -2.45064467e-01, -2.00201273e-01, -1.95384026e-02,\n",
              "         -1.54088840e-01],\n",
              "        [ 1.68935508e-01,  1.07318431e-01,  2.11882532e-01,\n",
              "         -9.96752679e-02,  2.60058194e-01,  2.00029850e-01,\n",
              "         -2.57066905e-01,  1.65014148e-01, -2.28934288e-01,\n",
              "         -4.78645116e-02],\n",
              "        [-9.27072763e-03, -5.85598946e-02,  9.69102979e-02,\n",
              "         -1.35655731e-01,  1.04127228e-01,  2.00172216e-01,\n",
              "          1.50080681e-01, -9.20293331e-02,  1.82632387e-01,\n",
              "          1.71596557e-01],\n",
              "        [ 2.43677646e-01, -9.07627940e-02,  1.20162964e-01,\n",
              "          2.39698559e-01, -2.32019722e-01, -1.93854928e-01,\n",
              "          2.15944618e-01, -9.98636037e-02,  2.66910583e-01,\n",
              "          1.33945823e-01],\n",
              "        [ 7.11368918e-02, -2.62381822e-01, -1.80053830e-01,\n",
              "          7.16936588e-03,  1.96270138e-01, -7.07232952e-02,\n",
              "          1.99228883e-01,  3.84012461e-02, -4.66274321e-02,\n",
              "         -6.46408498e-02],\n",
              "        [ 2.53621608e-01,  1.26415700e-01,  1.29732132e-01,\n",
              "          2.88034976e-02, -3.09365094e-02, -1.19766980e-01,\n",
              "          1.11224055e-02,  1.62422568e-01,  2.17354923e-01,\n",
              "         -8.41613263e-02],\n",
              "        [-2.03361899e-01,  1.14396751e-01,  2.19905674e-02,\n",
              "          1.85790658e-02,  2.34073550e-01,  8.04533064e-02,\n",
              "         -2.18497515e-02, -2.20389366e-01, -1.28279924e-01,\n",
              "          1.72513455e-01],\n",
              "        [ 1.91752821e-01, -4.19523865e-02,  1.96284622e-01,\n",
              "         -6.77803755e-02,  8.49389434e-02, -1.50339738e-01,\n",
              "         -1.74468756e-02,  2.35783458e-02,  8.42193067e-02,\n",
              "         -2.82142639e-01],\n",
              "        [ 9.69769657e-02,  1.79519147e-01,  6.48677349e-02,\n",
              "          2.55989224e-01, -2.98381150e-02,  5.83131015e-02,\n",
              "          7.21490383e-02,  2.48751253e-01,  8.24069381e-02,\n",
              "          2.41219014e-01],\n",
              "        [ 2.32239455e-01,  7.98454881e-02, -2.80818850e-01,\n",
              "         -1.28447890e-01, -1.48564562e-01, -2.54973888e-01,\n",
              "          2.39369273e-03, -1.30377352e-01, -2.53752083e-01,\n",
              "         -1.52700230e-01]], dtype=float32)>,\n",
              " <tf.Variable 'dense_1/bias:0' shape=(10,) dtype=float32, numpy=array([0., 0., 0., 0., 0., 0., 0., 0., 0., 0.], dtype=float32)>]"
            ]
          },
          "metadata": {},
          "execution_count": 7
        }
      ]
    },
    {
      "cell_type": "code",
      "source": [
        "inputs = keras.Input(shape=(3,), name=\"my_input\")\n",
        "features = layers.Dense(64, activation=\"relu\")(inputs)\n",
        "outputs = layers.Dense(10, activation=\"softmax\")(features)\n",
        "model = keras.Model(inputs=inputs, outputs=outputs)"
      ],
      "metadata": {
        "id": "hJoQSBrWBTge"
      },
      "execution_count": 8,
      "outputs": []
    },
    {
      "cell_type": "code",
      "source": [
        "inputs = keras.Input(shape=(3,), name=\"my_input\")"
      ],
      "metadata": {
        "id": "Q9DdLotvBYDz"
      },
      "execution_count": 9,
      "outputs": []
    },
    {
      "cell_type": "code",
      "source": [
        "inputs.shape"
      ],
      "metadata": {
        "colab": {
          "base_uri": "https://localhost:8080/"
        },
        "id": "m4cVBeD6BZIb",
        "outputId": "65fa68ea-7d82-42b8-d77a-7e605bf81b87"
      },
      "execution_count": 10,
      "outputs": [
        {
          "output_type": "execute_result",
          "data": {
            "text/plain": [
              "TensorShape([None, 3])"
            ]
          },
          "metadata": {},
          "execution_count": 10
        }
      ]
    },
    {
      "cell_type": "code",
      "source": [
        "inputs.dtype"
      ],
      "metadata": {
        "colab": {
          "base_uri": "https://localhost:8080/"
        },
        "id": "xgr1pCrSBZLk",
        "outputId": "220b2814-5d5c-4a6d-9a9b-128eb396a84b"
      },
      "execution_count": 12,
      "outputs": [
        {
          "output_type": "execute_result",
          "data": {
            "text/plain": [
              "tf.float32"
            ]
          },
          "metadata": {},
          "execution_count": 12
        }
      ]
    },
    {
      "cell_type": "code",
      "source": [
        "features = layers.Dense(64, activation=\"relu\")(inputs)"
      ],
      "metadata": {
        "id": "cpEkDGLaBZOj"
      },
      "execution_count": 13,
      "outputs": []
    },
    {
      "cell_type": "code",
      "source": [
        "features.shape"
      ],
      "metadata": {
        "colab": {
          "base_uri": "https://localhost:8080/"
        },
        "id": "EQqT8EUABZRz",
        "outputId": "ce39cc4e-fd95-43b7-8f19-e404360d6649"
      },
      "execution_count": 14,
      "outputs": [
        {
          "output_type": "execute_result",
          "data": {
            "text/plain": [
              "TensorShape([None, 64])"
            ]
          },
          "metadata": {},
          "execution_count": 14
        }
      ]
    },
    {
      "cell_type": "code",
      "source": [
        "outputs = layers.Dense(10, activation=\"softmax\")(features)\n",
        "model = keras.Model(inputs=inputs, outputs=outputs)"
      ],
      "metadata": {
        "id": "S0m5XFYwBZVr"
      },
      "execution_count": 15,
      "outputs": []
    },
    {
      "cell_type": "code",
      "source": [
        "model.summary()"
      ],
      "metadata": {
        "colab": {
          "base_uri": "https://localhost:8080/"
        },
        "id": "hXACISWnBluQ",
        "outputId": "8396f7ab-2e94-4ee9-fc2c-50876038a9d3"
      },
      "execution_count": 11,
      "outputs": [
        {
          "output_type": "stream",
          "name": "stdout",
          "text": [
            "Model: \"model\"\n",
            "_________________________________________________________________\n",
            " Layer (type)                Output Shape              Param #   \n",
            "=================================================================\n",
            " my_input (InputLayer)       [(None, 3)]               0         \n",
            "                                                                 \n",
            " dense_2 (Dense)             (None, 64)                256       \n",
            "                                                                 \n",
            " dense_3 (Dense)             (None, 10)                650       \n",
            "                                                                 \n",
            "=================================================================\n",
            "Total params: 906\n",
            "Trainable params: 906\n",
            "Non-trainable params: 0\n",
            "_________________________________________________________________\n"
          ]
        }
      ]
    }
  ]
}