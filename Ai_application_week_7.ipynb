{
  "cells": [
    {
      "cell_type": "markdown",
      "metadata": {
        "id": "view-in-github",
        "colab_type": "text"
      },
      "source": [
        "<a href=\"https://colab.research.google.com/github/Azizbek-Akhmadov/Mid-term-exam-AI-applications-system/blob/main/Ai_application_week_7.ipynb\" target=\"_parent\"><img src=\"https://colab.research.google.com/assets/colab-badge.svg\" alt=\"Open In Colab\"/></a>"
      ]
    },
    {
      "cell_type": "code",
      "execution_count": null,
      "metadata": {
        "colab": {
          "base_uri": "https://localhost:8080/"
        },
        "id": "ayW41beMyDZi",
        "outputId": "9491512a-907c-4450-943d-15eb2a8296fa"
      },
      "outputs": [
        {
          "name": "stdout",
          "output_type": "stream",
          "text": [
            "Looking in indexes: https://pypi.org/simple, https://us-python.pkg.dev/colab-wheels/public/simple/\n",
            "Requirement already satisfied: requests in /usr/local/lib/python3.7/dist-packages (2.23.0)\n",
            "Requirement already satisfied: urllib3!=1.25.0,!=1.25.1,<1.26,>=1.21.1 in /usr/local/lib/python3.7/dist-packages (from requests) (1.24.3)\n",
            "Requirement already satisfied: idna<3,>=2.5 in /usr/local/lib/python3.7/dist-packages (from requests) (2.10)\n",
            "Requirement already satisfied: chardet<4,>=3.0.2 in /usr/local/lib/python3.7/dist-packages (from requests) (3.0.4)\n",
            "Requirement already satisfied: certifi>=2017.4.17 in /usr/local/lib/python3.7/dist-packages (from requests) (2022.9.24)\n"
          ]
        }
      ],
      "source": [
        "!pip install requests"
      ]
    },
    {
      "cell_type": "code",
      "execution_count": null,
      "metadata": {
        "id": "BQN4LnkKz5MQ"
      },
      "outputs": [],
      "source": [
        "import requests\n",
        "url = \"https://raw.githubusercontent.com/NVDLI/LDL/main/pt_framework/utilities.py\" \n",
        "r=requests.get(url) \n",
        "with open('utilities.py', 'w') as f: \n",
        "  f.write(r.text)"
      ]
    },
    {
      "cell_type": "code",
      "execution_count": null,
      "metadata": {
        "colab": {
          "base_uri": "https://localhost:8080/",
          "height": 84,
          "referenced_widgets": [
            "96e17f4dcb4d4eee8118e1c84951cf73",
            "d4760570f4a548d0a438b3bde220f34e",
            "297d3271970144209737b724e06f7083",
            "5463686a29e9490aa79c660a181beca3",
            "569155e24fea43a7918604f79facfa1e",
            "8b65b89af86f44ce821d52a5039b1996",
            "d425d8a902304837a83365708e82d510",
            "5bdd38ae73fe4284af93f5beb96f0d0c",
            "887b2767ae8a4b749343fa4e5a58750d",
            "fa7d25ad4a534b18a2808f4704ce5aba",
            "3e6e0c16a0d44b4bb5c0f91b5182c2c5"
          ]
        },
        "id": "VueTZRAez9hY",
        "outputId": "9ef65615-a743-43c9-f594-4b11238269fa"
      },
      "outputs": [
        {
          "name": "stdout",
          "output_type": "stream",
          "text": [
            "Downloading https://www.cs.toronto.edu/~kriz/cifar-10-python.tar.gz to ./pt_data/cifar-10-python.tar.gz\n"
          ]
        },
        {
          "data": {
            "application/vnd.jupyter.widget-view+json": {
              "model_id": "96e17f4dcb4d4eee8118e1c84951cf73",
              "version_major": 2,
              "version_minor": 0
            },
            "text/plain": [
              "  0%|          | 0/170498071 [00:00<?, ?it/s]"
            ]
          },
          "metadata": {},
          "output_type": "display_data"
        },
        {
          "name": "stdout",
          "output_type": "stream",
          "text": [
            "Extracting ./pt_data/cifar-10-python.tar.gz to ./pt_data\n"
          ]
        }
      ],
      "source": [
        "import torch\n",
        "import torch.nn as nn\n",
        "import torchvision\n",
        "import torchvision. transforms as transforms\n",
        "from torchvision.datasets import CIFAR10 \n",
        "from torch.utils.data import DataLoader\n",
        "import numpy as np\n",
        "from utilities import train_model\n",
        "\n",
        "device = torch.device(\"cuda:0\" if torch.cuda.is_available() else \"cpu\")\n",
        "\n",
        "EPOCHS = 30\n",
        "\n",
        "BATCH_SIZE=32\n",
        "\n",
        "\n",
        "\n",
        "transform = transforms.Compose([transforms. ToTensor()]) \n",
        "trainset=CIFAR10(root=\"./pt_data\", train=True, download=True, transform=transform) \n",
        "trainloader=DataLoader(trainset, batch_size=len(trainset), shuffle=False) \n",
        "data=next(iter (trainloader))\n",
        "\n",
        "mean = data[0].mean()\n",
        "\n",
        "stddev = data[0].std()"
      ]
    },
    {
      "cell_type": "code",
      "execution_count": null,
      "metadata": {
        "colab": {
          "base_uri": "https://localhost:8080/"
        },
        "id": "vLk0YVS_0Bxj",
        "outputId": "1ccd5d1d-d7da-424c-89bf-1a97b26394fe"
      },
      "outputs": [
        {
          "name": "stdout",
          "output_type": "stream",
          "text": [
            "Files already downloaded and verified\n",
            "Files already downloaded and verified\n"
          ]
        }
      ],
      "source": [
        "transform=transforms.Compose( \n",
        "    [transforms.ToTensor(),\n",
        "     transforms.Normalize(mean,stddev)])\n",
        "\n",
        "trainset = CIFAR10(root='./pt_data', train=True, download=True,transform=transform) \n",
        "testset = CIFAR10(root='./pt_data', train=False, download=True,transform=transform)\n",
        "\n",
        "\n",
        "model = nn. Sequential(\n",
        "    nn.Conv2d(3, 64, 5, stride=2, padding=2),\n",
        "    nn.ReLU(),\n",
        "    nn. Conv2d(64, 64, 3, stride=2, padding=1),\n",
        "    nn.ReLU(),\n",
        "    nn.Flatten(),\n",
        "    nn.Linear (64*8*8, 10)\n",
        ")"
      ]
    },
    {
      "cell_type": "code",
      "execution_count": null,
      "metadata": {
        "colab": {
          "background_save": true,
          "base_uri": "https://localhost:8080/"
        },
        "id": "zDa4m_ri0Dju",
        "outputId": "19e8f864-414d-4788-ad4e-e4c0ee3e321f"
      },
      "outputs": [
        {
          "name": "stderr",
          "output_type": "stream",
          "text": [
            "/usr/local/lib/python3.7/dist-packages/ipykernel_launcher.py:11: UserWarning: nn.init.constant is now deprecated in favor of nn.init.constant_.\n",
            "  # This is added back by InteractiveShellApp.init_path()\n",
            "/usr/local/lib/python3.7/dist-packages/ipykernel_launcher.py:15: UserWarning: nn.init.constant is now deprecated in favor of nn.init.constant_.\n",
            "  from ipykernel import kernelapp as app\n",
            "/usr/local/lib/python3.7/dist-packages/ipykernel_launcher.py:17: UserWarning: nn.init.xavier_uniform is now deprecated in favor of nn.init.xavier_uniform_.\n",
            "/usr/local/lib/python3.7/dist-packages/ipykernel_launcher.py:19: UserWarning: nn.init.constant is now deprecated in favor of nn.init.constant_.\n"
          ]
        },
        {
          "name": "stdout",
          "output_type": "stream",
          "text": [
            "Epoch 1/30 loss: 1.3976 - acc: 0.5076 - val_loss: 1.1780 - val_acc: 0.5779\n",
            "Epoch 2/30 loss: 1.0620 - acc: 0.6300 - val_loss: 1.0968 - val_acc: 0.6124\n",
            "Epoch 3/30 loss: 0.9239 - acc: 0.6775 - val_loss: 1.0542 - val_acc: 0.6310\n",
            "Epoch 4/30 loss: 0.8272 - acc: 0.7107 - val_loss: 1.0659 - val_acc: 0.6408\n",
            "Epoch 5/30 loss: 0.7450 - acc: 0.7409 - val_loss: 1.0828 - val_acc: 0.6434\n",
            "Epoch 6/30 loss: 0.6745 - acc: 0.7645 - val_loss: 1.1039 - val_acc: 0.6414\n",
            "Epoch 7/30 loss: 0.6126 - acc: 0.7857 - val_loss: 1.1540 - val_acc: 0.6389\n",
            "Epoch 8/30 loss: 0.5602 - acc: 0.8034 - val_loss: 1.2087 - val_acc: 0.6407\n",
            "Epoch 9/30 loss: 0.5140 - acc: 0.8200 - val_loss: 1.2748 - val_acc: 0.6316\n",
            "Epoch 10/30 loss: 0.4702 - acc: 0.8339 - val_loss: 1.3480 - val_acc: 0.6314\n",
            "Epoch 11/30 loss: 0.4292 - acc: 0.8492 - val_loss: 1.4070 - val_acc: 0.6272\n",
            "Epoch 12/30 loss: 0.4001 - acc: 0.8581 - val_loss: 1.5240 - val_acc: 0.6255\n",
            "Epoch 13/30 loss: 0.3663 - acc: 0.8701 - val_loss: 1.6418 - val_acc: 0.6110\n",
            "Epoch 14/30 loss: 0.3399 - acc: 0.8779 - val_loss: 1.6698 - val_acc: 0.6249\n",
            "Epoch 15/30 loss: 0.3133 - acc: 0.8863 - val_loss: 1.7852 - val_acc: 0.6212\n",
            "Epoch 16/30 loss: 0.2931 - acc: 0.8950 - val_loss: 1.9266 - val_acc: 0.6207\n",
            "Epoch 17/30 loss: 0.2757 - acc: 0.9011 - val_loss: 2.0349 - val_acc: 0.6123\n",
            "Epoch 18/30 loss: 0.2554 - acc: 0.9078 - val_loss: 2.1035 - val_acc: 0.6198\n",
            "Epoch 19/30 loss: 0.2400 - acc: 0.9149 - val_loss: 2.2103 - val_acc: 0.6079\n",
            "Epoch 20/30 loss: 0.2338 - acc: 0.9151 - val_loss: 2.2533 - val_acc: 0.6130\n",
            "Epoch 21/30 loss: 0.2163 - acc: 0.9214 - val_loss: 2.4074 - val_acc: 0.6087\n",
            "Epoch 22/30 loss: 0.2097 - acc: 0.9248 - val_loss: 2.5460 - val_acc: 0.6104\n",
            "Epoch 23/30 loss: 0.2012 - acc: 0.9267 - val_loss: 2.6138 - val_acc: 0.6151\n",
            "Epoch 24/30 loss: 0.1914 - acc: 0.9306 - val_loss: 2.7062 - val_acc: 0.6121\n",
            "Epoch 25/30 loss: 0.1765 - acc: 0.9379 - val_loss: 2.7746 - val_acc: 0.6127\n",
            "Epoch 26/30 loss: 0.1819 - acc: 0.9338 - val_loss: 2.9297 - val_acc: 0.6080\n",
            "Epoch 27/30 loss: 0.1727 - acc: 0.9390 - val_loss: 3.0046 - val_acc: 0.6071\n",
            "Epoch 28/30 loss: 0.1663 - acc: 0.9391 - val_loss: 3.1284 - val_acc: 0.6084\n",
            "Epoch 29/30 loss: 0.1668 - acc: 0.9408 - val_loss: 3.1694 - val_acc: 0.6094\n",
            "Epoch 30/30 loss: 0.1645 - acc: 0.9410 - val_loss: 3.3647 - val_acc: 0.6077\n"
          ]
        },
        {
          "data": {
            "text/plain": [
              "[0.9410388675623801, 0.6077276357827476]"
            ]
          },
          "execution_count": 6,
          "metadata": {},
          "output_type": "execute_result"
        }
      ],
      "source": [
        "layers = next (model.modules())\n",
        "conv_layer0=layers[0]\n",
        "\n",
        "conv_layer1=layers[2]\n",
        "\n",
        "output_layer=layers[5]\n",
        "\n",
        "\n",
        "nn.init.kaiming_normal_(conv_layer0.weight)\n",
        "\n",
        "nn.init.constant(conv_layer0.bias,0.0)\n",
        "\n",
        "nn.init.kaiming_normal_(conv_layer1.weight)\n",
        "\n",
        "nn.init.constant (conv_layer1.bias, 0.0)\n",
        "\n",
        "nn. init.xavier_uniform (output_layer.weight)\n",
        "\n",
        "nn.init.constant (output_layer.bias, 0.0)\n",
        "\n",
        "optimizer = torch.optim.Adam(model.parameters()) \n",
        "loss_function = nn.CrossEntropyLoss()\n",
        "\n",
        "train_model(model, device, EPOCHS, BATCH_SIZE, trainset, testset, optimizer, loss_function, 'acc')"
      ]
    }
  ],
  "metadata": {
    "colab": {
      "provenance": [],
      "authorship_tag": "ABX9TyN8w57phV6lF5lGfq28h13T",
      "include_colab_link": true
    },
    "kernelspec": {
      "display_name": "Python 3",
      "name": "python3"
    },
    "language_info": {
      "name": "python"
    },
    "widgets": {
      "application/vnd.jupyter.widget-state+json": {
        "297d3271970144209737b724e06f7083": {
          "model_module": "@jupyter-widgets/controls",
          "model_module_version": "1.5.0",
          "model_name": "FloatProgressModel",
          "state": {
            "_dom_classes": [],
            "_model_module": "@jupyter-widgets/controls",
            "_model_module_version": "1.5.0",
            "_model_name": "FloatProgressModel",
            "_view_count": null,
            "_view_module": "@jupyter-widgets/controls",
            "_view_module_version": "1.5.0",
            "_view_name": "ProgressView",
            "bar_style": "success",
            "description": "",
            "description_tooltip": null,
            "layout": "IPY_MODEL_5bdd38ae73fe4284af93f5beb96f0d0c",
            "max": 170498071,
            "min": 0,
            "orientation": "horizontal",
            "style": "IPY_MODEL_887b2767ae8a4b749343fa4e5a58750d",
            "value": 170498071
          }
        },
        "3e6e0c16a0d44b4bb5c0f91b5182c2c5": {
          "model_module": "@jupyter-widgets/controls",
          "model_module_version": "1.5.0",
          "model_name": "DescriptionStyleModel",
          "state": {
            "_model_module": "@jupyter-widgets/controls",
            "_model_module_version": "1.5.0",
            "_model_name": "DescriptionStyleModel",
            "_view_count": null,
            "_view_module": "@jupyter-widgets/base",
            "_view_module_version": "1.2.0",
            "_view_name": "StyleView",
            "description_width": ""
          }
        },
        "5463686a29e9490aa79c660a181beca3": {
          "model_module": "@jupyter-widgets/controls",
          "model_module_version": "1.5.0",
          "model_name": "HTMLModel",
          "state": {
            "_dom_classes": [],
            "_model_module": "@jupyter-widgets/controls",
            "_model_module_version": "1.5.0",
            "_model_name": "HTMLModel",
            "_view_count": null,
            "_view_module": "@jupyter-widgets/controls",
            "_view_module_version": "1.5.0",
            "_view_name": "HTMLView",
            "description": "",
            "description_tooltip": null,
            "layout": "IPY_MODEL_fa7d25ad4a534b18a2808f4704ce5aba",
            "placeholder": "​",
            "style": "IPY_MODEL_3e6e0c16a0d44b4bb5c0f91b5182c2c5",
            "value": " 170498071/170498071 [00:06&lt;00:00, 30290831.96it/s]"
          }
        },
        "569155e24fea43a7918604f79facfa1e": {
          "model_module": "@jupyter-widgets/base",
          "model_module_version": "1.2.0",
          "model_name": "LayoutModel",
          "state": {
            "_model_module": "@jupyter-widgets/base",
            "_model_module_version": "1.2.0",
            "_model_name": "LayoutModel",
            "_view_count": null,
            "_view_module": "@jupyter-widgets/base",
            "_view_module_version": "1.2.0",
            "_view_name": "LayoutView",
            "align_content": null,
            "align_items": null,
            "align_self": null,
            "border": null,
            "bottom": null,
            "display": null,
            "flex": null,
            "flex_flow": null,
            "grid_area": null,
            "grid_auto_columns": null,
            "grid_auto_flow": null,
            "grid_auto_rows": null,
            "grid_column": null,
            "grid_gap": null,
            "grid_row": null,
            "grid_template_areas": null,
            "grid_template_columns": null,
            "grid_template_rows": null,
            "height": null,
            "justify_content": null,
            "justify_items": null,
            "left": null,
            "margin": null,
            "max_height": null,
            "max_width": null,
            "min_height": null,
            "min_width": null,
            "object_fit": null,
            "object_position": null,
            "order": null,
            "overflow": null,
            "overflow_x": null,
            "overflow_y": null,
            "padding": null,
            "right": null,
            "top": null,
            "visibility": null,
            "width": null
          }
        },
        "5bdd38ae73fe4284af93f5beb96f0d0c": {
          "model_module": "@jupyter-widgets/base",
          "model_module_version": "1.2.0",
          "model_name": "LayoutModel",
          "state": {
            "_model_module": "@jupyter-widgets/base",
            "_model_module_version": "1.2.0",
            "_model_name": "LayoutModel",
            "_view_count": null,
            "_view_module": "@jupyter-widgets/base",
            "_view_module_version": "1.2.0",
            "_view_name": "LayoutView",
            "align_content": null,
            "align_items": null,
            "align_self": null,
            "border": null,
            "bottom": null,
            "display": null,
            "flex": null,
            "flex_flow": null,
            "grid_area": null,
            "grid_auto_columns": null,
            "grid_auto_flow": null,
            "grid_auto_rows": null,
            "grid_column": null,
            "grid_gap": null,
            "grid_row": null,
            "grid_template_areas": null,
            "grid_template_columns": null,
            "grid_template_rows": null,
            "height": null,
            "justify_content": null,
            "justify_items": null,
            "left": null,
            "margin": null,
            "max_height": null,
            "max_width": null,
            "min_height": null,
            "min_width": null,
            "object_fit": null,
            "object_position": null,
            "order": null,
            "overflow": null,
            "overflow_x": null,
            "overflow_y": null,
            "padding": null,
            "right": null,
            "top": null,
            "visibility": null,
            "width": null
          }
        },
        "887b2767ae8a4b749343fa4e5a58750d": {
          "model_module": "@jupyter-widgets/controls",
          "model_module_version": "1.5.0",
          "model_name": "ProgressStyleModel",
          "state": {
            "_model_module": "@jupyter-widgets/controls",
            "_model_module_version": "1.5.0",
            "_model_name": "ProgressStyleModel",
            "_view_count": null,
            "_view_module": "@jupyter-widgets/base",
            "_view_module_version": "1.2.0",
            "_view_name": "StyleView",
            "bar_color": null,
            "description_width": ""
          }
        },
        "8b65b89af86f44ce821d52a5039b1996": {
          "model_module": "@jupyter-widgets/base",
          "model_module_version": "1.2.0",
          "model_name": "LayoutModel",
          "state": {
            "_model_module": "@jupyter-widgets/base",
            "_model_module_version": "1.2.0",
            "_model_name": "LayoutModel",
            "_view_count": null,
            "_view_module": "@jupyter-widgets/base",
            "_view_module_version": "1.2.0",
            "_view_name": "LayoutView",
            "align_content": null,
            "align_items": null,
            "align_self": null,
            "border": null,
            "bottom": null,
            "display": null,
            "flex": null,
            "flex_flow": null,
            "grid_area": null,
            "grid_auto_columns": null,
            "grid_auto_flow": null,
            "grid_auto_rows": null,
            "grid_column": null,
            "grid_gap": null,
            "grid_row": null,
            "grid_template_areas": null,
            "grid_template_columns": null,
            "grid_template_rows": null,
            "height": null,
            "justify_content": null,
            "justify_items": null,
            "left": null,
            "margin": null,
            "max_height": null,
            "max_width": null,
            "min_height": null,
            "min_width": null,
            "object_fit": null,
            "object_position": null,
            "order": null,
            "overflow": null,
            "overflow_x": null,
            "overflow_y": null,
            "padding": null,
            "right": null,
            "top": null,
            "visibility": null,
            "width": null
          }
        },
        "96e17f4dcb4d4eee8118e1c84951cf73": {
          "model_module": "@jupyter-widgets/controls",
          "model_module_version": "1.5.0",
          "model_name": "HBoxModel",
          "state": {
            "_dom_classes": [],
            "_model_module": "@jupyter-widgets/controls",
            "_model_module_version": "1.5.0",
            "_model_name": "HBoxModel",
            "_view_count": null,
            "_view_module": "@jupyter-widgets/controls",
            "_view_module_version": "1.5.0",
            "_view_name": "HBoxView",
            "box_style": "",
            "children": [
              "IPY_MODEL_d4760570f4a548d0a438b3bde220f34e",
              "IPY_MODEL_297d3271970144209737b724e06f7083",
              "IPY_MODEL_5463686a29e9490aa79c660a181beca3"
            ],
            "layout": "IPY_MODEL_569155e24fea43a7918604f79facfa1e"
          }
        },
        "d425d8a902304837a83365708e82d510": {
          "model_module": "@jupyter-widgets/controls",
          "model_module_version": "1.5.0",
          "model_name": "DescriptionStyleModel",
          "state": {
            "_model_module": "@jupyter-widgets/controls",
            "_model_module_version": "1.5.0",
            "_model_name": "DescriptionStyleModel",
            "_view_count": null,
            "_view_module": "@jupyter-widgets/base",
            "_view_module_version": "1.2.0",
            "_view_name": "StyleView",
            "description_width": ""
          }
        },
        "d4760570f4a548d0a438b3bde220f34e": {
          "model_module": "@jupyter-widgets/controls",
          "model_module_version": "1.5.0",
          "model_name": "HTMLModel",
          "state": {
            "_dom_classes": [],
            "_model_module": "@jupyter-widgets/controls",
            "_model_module_version": "1.5.0",
            "_model_name": "HTMLModel",
            "_view_count": null,
            "_view_module": "@jupyter-widgets/controls",
            "_view_module_version": "1.5.0",
            "_view_name": "HTMLView",
            "description": "",
            "description_tooltip": null,
            "layout": "IPY_MODEL_8b65b89af86f44ce821d52a5039b1996",
            "placeholder": "​",
            "style": "IPY_MODEL_d425d8a902304837a83365708e82d510",
            "value": "100%"
          }
        },
        "fa7d25ad4a534b18a2808f4704ce5aba": {
          "model_module": "@jupyter-widgets/base",
          "model_module_version": "1.2.0",
          "model_name": "LayoutModel",
          "state": {
            "_model_module": "@jupyter-widgets/base",
            "_model_module_version": "1.2.0",
            "_model_name": "LayoutModel",
            "_view_count": null,
            "_view_module": "@jupyter-widgets/base",
            "_view_module_version": "1.2.0",
            "_view_name": "LayoutView",
            "align_content": null,
            "align_items": null,
            "align_self": null,
            "border": null,
            "bottom": null,
            "display": null,
            "flex": null,
            "flex_flow": null,
            "grid_area": null,
            "grid_auto_columns": null,
            "grid_auto_flow": null,
            "grid_auto_rows": null,
            "grid_column": null,
            "grid_gap": null,
            "grid_row": null,
            "grid_template_areas": null,
            "grid_template_columns": null,
            "grid_template_rows": null,
            "height": null,
            "justify_content": null,
            "justify_items": null,
            "left": null,
            "margin": null,
            "max_height": null,
            "max_width": null,
            "min_height": null,
            "min_width": null,
            "object_fit": null,
            "object_position": null,
            "order": null,
            "overflow": null,
            "overflow_x": null,
            "overflow_y": null,
            "padding": null,
            "right": null,
            "top": null,
            "visibility": null,
            "width": null
          }
        }
      }
    }
  },
  "nbformat": 4,
  "nbformat_minor": 0
}