{
  "nbformat": 4,
  "nbformat_minor": 0,
  "metadata": {
    "colab": {
      "provenance": [],
      "collapsed_sections": [],
      "include_colab_link": true
    },
    "kernelspec": {
      "name": "python3",
      "display_name": "Python 3"
    },
    "language_info": {
      "name": "python"
    },
    "accelerator": "GPU",
    "gpuClass": "standard"
  },
  "cells": [
    {
      "cell_type": "markdown",
      "metadata": {
        "id": "view-in-github",
        "colab_type": "text"
      },
      "source": [
        "<a href=\"https://colab.research.google.com/github/Azizbek-Akhmadov/Mid-term-exam-AI-applications-system/blob/main/week11/Week11.ipynb\" target=\"_parent\"><img src=\"https://colab.research.google.com/assets/colab-badge.svg\" alt=\"Open In Colab\"/></a>"
      ]
    },
    {
      "cell_type": "code",
      "execution_count": 4,
      "metadata": {
        "id": "kIbZf2nn4m4u"
      },
      "outputs": [],
      "source": [
        "import requests\n",
        "# Save datagenerators as file to colab working directory\n",
        "# If you are using GitHub, make sure you get the \"Raw\" version of the code\n",
        "url = 'https://raw.githubusercontent.com/NVDLI/LDL/main/pt_framework/utilities.py' \n",
        "r = requests.get(url)\n",
        "# make sure your filename is the same as how you want to import \n",
        "with open('utilities.py', 'w') as f:\n",
        "  f.write(r.text)"
      ]
    },
    {
      "cell_type": "code",
      "source": [
        "import torch\n",
        "import torch.nn as nn\n",
        "from torch.utils.data import TensorDataset, DataLoader \n",
        "import numpy as np\n",
        "import matplotlib.pyplot as plt\n",
        "from utilities import train_model\n",
        "device = torch.device(\"cuda:0\" if torch.cuda.is_available() else \"cpu\") \n",
        "EPOCHS = 100\n",
        "BATCH_SIZE = 16\n",
        "TRAIN_TEST_SPLIT = 0.8\n",
        "MIN = 12\n",
        "FILE_NAME = '//content/book_store_sales.csv'\n",
        "def readfile(file_name):\n",
        "  file = open(file_name,\tencoding='utf—8')\n",
        "  next(file)\n",
        "  data = []\n",
        "  for line in (file):\n",
        "    values = line.split(',')\n",
        "    data.append(float(values[1]))\n",
        "    file.close()\n",
        "    return np.array(data, dtype=np.float32)\n",
        "# Read data and split up into train and test data. \n",
        "sales = readfile(FILE_NAME)\n",
        "months = len(sales)\n",
        "split = int(months * TRAIN_TEST_SPLIT)\n",
        "train_sales = df['Value'][0:split]\n",
        "test_sales = df['Value'][split:]"
      ],
      "metadata": {
        "id": "FjSMd-Qj5gz1"
      },
      "execution_count": 10,
      "outputs": []
    },
    {
      "cell_type": "code",
      "source": [
        "import pandas as pd\n",
        "df=pd.read_csv('/content/book_store_sales.csv')\n",
        "df"
      ],
      "metadata": {
        "colab": {
          "base_uri": "https://localhost:8080/",
          "height": 424
        },
        "id": "7Iyr70pRDK5Y",
        "outputId": "88479347-74c5-477c-e021-27ecf3d3e62c"
      },
      "execution_count": 9,
      "outputs": [
        {
          "output_type": "execute_result",
          "data": {
            "text/plain": [
              "     Period  Value\n",
              "0    Jan-92    790\n",
              "1    Feb-92    539\n",
              "2    Mar-92    535\n",
              "3    Apr-92    523\n",
              "4    May-92    552\n",
              "..      ...    ...\n",
              "343  Aug-20    725\n",
              "344  Sep-20    583\n",
              "345  Oct-20    427\n",
              "346  Nov-20    465\n",
              "347  Dec-20    844\n",
              "\n",
              "[348 rows x 2 columns]"
            ],
            "text/html": [
              "\n",
              "  <div id=\"df-7ae1e9f2-8c29-4314-9a34-85fed3c39873\">\n",
              "    <div class=\"colab-df-container\">\n",
              "      <div>\n",
              "<style scoped>\n",
              "    .dataframe tbody tr th:only-of-type {\n",
              "        vertical-align: middle;\n",
              "    }\n",
              "\n",
              "    .dataframe tbody tr th {\n",
              "        vertical-align: top;\n",
              "    }\n",
              "\n",
              "    .dataframe thead th {\n",
              "        text-align: right;\n",
              "    }\n",
              "</style>\n",
              "<table border=\"1\" class=\"dataframe\">\n",
              "  <thead>\n",
              "    <tr style=\"text-align: right;\">\n",
              "      <th></th>\n",
              "      <th>Period</th>\n",
              "      <th>Value</th>\n",
              "    </tr>\n",
              "  </thead>\n",
              "  <tbody>\n",
              "    <tr>\n",
              "      <th>0</th>\n",
              "      <td>Jan-92</td>\n",
              "      <td>790</td>\n",
              "    </tr>\n",
              "    <tr>\n",
              "      <th>1</th>\n",
              "      <td>Feb-92</td>\n",
              "      <td>539</td>\n",
              "    </tr>\n",
              "    <tr>\n",
              "      <th>2</th>\n",
              "      <td>Mar-92</td>\n",
              "      <td>535</td>\n",
              "    </tr>\n",
              "    <tr>\n",
              "      <th>3</th>\n",
              "      <td>Apr-92</td>\n",
              "      <td>523</td>\n",
              "    </tr>\n",
              "    <tr>\n",
              "      <th>4</th>\n",
              "      <td>May-92</td>\n",
              "      <td>552</td>\n",
              "    </tr>\n",
              "    <tr>\n",
              "      <th>...</th>\n",
              "      <td>...</td>\n",
              "      <td>...</td>\n",
              "    </tr>\n",
              "    <tr>\n",
              "      <th>343</th>\n",
              "      <td>Aug-20</td>\n",
              "      <td>725</td>\n",
              "    </tr>\n",
              "    <tr>\n",
              "      <th>344</th>\n",
              "      <td>Sep-20</td>\n",
              "      <td>583</td>\n",
              "    </tr>\n",
              "    <tr>\n",
              "      <th>345</th>\n",
              "      <td>Oct-20</td>\n",
              "      <td>427</td>\n",
              "    </tr>\n",
              "    <tr>\n",
              "      <th>346</th>\n",
              "      <td>Nov-20</td>\n",
              "      <td>465</td>\n",
              "    </tr>\n",
              "    <tr>\n",
              "      <th>347</th>\n",
              "      <td>Dec-20</td>\n",
              "      <td>844</td>\n",
              "    </tr>\n",
              "  </tbody>\n",
              "</table>\n",
              "<p>348 rows × 2 columns</p>\n",
              "</div>\n",
              "      <button class=\"colab-df-convert\" onclick=\"convertToInteractive('df-7ae1e9f2-8c29-4314-9a34-85fed3c39873')\"\n",
              "              title=\"Convert this dataframe to an interactive table.\"\n",
              "              style=\"display:none;\">\n",
              "        \n",
              "  <svg xmlns=\"http://www.w3.org/2000/svg\" height=\"24px\"viewBox=\"0 0 24 24\"\n",
              "       width=\"24px\">\n",
              "    <path d=\"M0 0h24v24H0V0z\" fill=\"none\"/>\n",
              "    <path d=\"M18.56 5.44l.94 2.06.94-2.06 2.06-.94-2.06-.94-.94-2.06-.94 2.06-2.06.94zm-11 1L8.5 8.5l.94-2.06 2.06-.94-2.06-.94L8.5 2.5l-.94 2.06-2.06.94zm10 10l.94 2.06.94-2.06 2.06-.94-2.06-.94-.94-2.06-.94 2.06-2.06.94z\"/><path d=\"M17.41 7.96l-1.37-1.37c-.4-.4-.92-.59-1.43-.59-.52 0-1.04.2-1.43.59L10.3 9.45l-7.72 7.72c-.78.78-.78 2.05 0 2.83L4 21.41c.39.39.9.59 1.41.59.51 0 1.02-.2 1.41-.59l7.78-7.78 2.81-2.81c.8-.78.8-2.07 0-2.86zM5.41 20L4 18.59l7.72-7.72 1.47 1.35L5.41 20z\"/>\n",
              "  </svg>\n",
              "      </button>\n",
              "      \n",
              "  <style>\n",
              "    .colab-df-container {\n",
              "      display:flex;\n",
              "      flex-wrap:wrap;\n",
              "      gap: 12px;\n",
              "    }\n",
              "\n",
              "    .colab-df-convert {\n",
              "      background-color: #E8F0FE;\n",
              "      border: none;\n",
              "      border-radius: 50%;\n",
              "      cursor: pointer;\n",
              "      display: none;\n",
              "      fill: #1967D2;\n",
              "      height: 32px;\n",
              "      padding: 0 0 0 0;\n",
              "      width: 32px;\n",
              "    }\n",
              "\n",
              "    .colab-df-convert:hover {\n",
              "      background-color: #E2EBFA;\n",
              "      box-shadow: 0px 1px 2px rgba(60, 64, 67, 0.3), 0px 1px 3px 1px rgba(60, 64, 67, 0.15);\n",
              "      fill: #174EA6;\n",
              "    }\n",
              "\n",
              "    [theme=dark] .colab-df-convert {\n",
              "      background-color: #3B4455;\n",
              "      fill: #D2E3FC;\n",
              "    }\n",
              "\n",
              "    [theme=dark] .colab-df-convert:hover {\n",
              "      background-color: #434B5C;\n",
              "      box-shadow: 0px 1px 3px 1px rgba(0, 0, 0, 0.15);\n",
              "      filter: drop-shadow(0px 1px 2px rgba(0, 0, 0, 0.3));\n",
              "      fill: #FFFFFF;\n",
              "    }\n",
              "  </style>\n",
              "\n",
              "      <script>\n",
              "        const buttonEl =\n",
              "          document.querySelector('#df-7ae1e9f2-8c29-4314-9a34-85fed3c39873 button.colab-df-convert');\n",
              "        buttonEl.style.display =\n",
              "          google.colab.kernel.accessAllowed ? 'block' : 'none';\n",
              "\n",
              "        async function convertToInteractive(key) {\n",
              "          const element = document.querySelector('#df-7ae1e9f2-8c29-4314-9a34-85fed3c39873');\n",
              "          const dataTable =\n",
              "            await google.colab.kernel.invokeFunction('convertToInteractive',\n",
              "                                                     [key], {});\n",
              "          if (!dataTable) return;\n",
              "\n",
              "          const docLinkHtml = 'Like what you see? Visit the ' +\n",
              "            '<a target=\"_blank\" href=https://colab.research.google.com/notebooks/data_table.ipynb>data table notebook</a>'\n",
              "            + ' to learn more about interactive tables.';\n",
              "          element.innerHTML = '';\n",
              "          dataTable['output_type'] = 'display_data';\n",
              "          await google.colab.output.renderOutput(dataTable, element);\n",
              "          const docLink = document.createElement('div');\n",
              "          docLink.innerHTML = docLinkHtml;\n",
              "          element.appendChild(docLink);\n",
              "        }\n",
              "      </script>\n",
              "    </div>\n",
              "  </div>\n",
              "  "
            ]
          },
          "metadata": {},
          "execution_count": 9
        }
      ]
    },
    {
      "cell_type": "code",
      "source": [
        "plt.plot(df['Value'])\n",
        "plt.ylabel('Sales (millions $)')\n",
        "plt.legend()\n",
        "plt.show()"
      ],
      "metadata": {
        "colab": {
          "base_uri": "https://localhost:8080/",
          "height": 283
        },
        "id": "tIu9SPDXDvRK",
        "outputId": "51cd1428-b49d-4652-a941-22a7c66b0e4f"
      },
      "execution_count": null,
      "outputs": [
        {
          "output_type": "stream",
          "name": "stderr",
          "text": [
            "WARNING:matplotlib.legend:No handles with labels found to put in legend.\n"
          ]
        },
        {
          "output_type": "display_data",
          "data": {
            "text/plain": [
              "<Figure size 432x288 with 1 Axes>"
            ],
            "image/png": "[encoded data removed]"
          },
          "metadata": {
            "needs_background": "light"
          }
        }
      ]
    },
    {
      "cell_type": "code",
      "source": [
        "#Plot dataset\n",
        "x = range(len(sales))\n",
        "plt.plot(df[\"Value\"], 'r-', label='book sales')\n",
        "plt.title('Book store sales')\n",
        "plt.axis([0, 339, 0.0, 3000.0])\n",
        "plt.xlabel('Months')\n",
        "plt.ylabel('Sales (millions $)')\n",
        "plt.legend()\n",
        "plt.show()"
      ],
      "metadata": {
        "colab": {
          "base_uri": "https://localhost:8080/",
          "height": 295
        },
        "id": "LnxECHae-sE-",
        "outputId": "79e7bb2c-b87b-4887-9a96-dd41d73437d0"
      },
      "execution_count": null,
      "outputs": [
        {
          "output_type": "display_data",
          "data": {
            "text/plain": [
              "<Figure size 432x288 with 1 Axes>"
            ],
            "image/png": "[encoded data removed]"
          },
          "metadata": {
            "needs_background": "light"
          }
        }
      ]
    },
    {
      "cell_type": "code",
      "source": [
        "# Plot naive prediction\n",
        "test_output = test_sales [MIN:]\n",
        "naive_prediction = test_sales [MIN-1:-1]\n",
        "x = range (len(test_output))\n",
        "plt.plot(x,test_output, 'g-', label='test_output')\n",
        "plt.plot(x,naive_prediction, 'm-', label='naive prediction')\n",
        "plt.title('Book store sales')\n",
        "plt.axis ([0, 60, 0.0, 3000.0])\n",
        "plt.xlabel('months')\n",
        "plt.ylabel('Monthly book store sales')\n",
        "plt. legend()\n",
        "plt.show()"
      ],
      "metadata": {
        "id": "gomibGQ2-spU"
      },
      "execution_count": 14,
      "outputs": []
    },
    {
      "cell_type": "code",
      "source": [
        "in_X[i, -(i+MIN), 0] = train_sales_std [0:i+MIN]\n",
        "  train_y[i, 0] = train_sales_std[i+MIN]\n",
        "  # Create test examples.\n",
        "  test_months = len(test_sales)\n",
        "  test_X = np.zeros((test_months-MIN)),\n",
        "  test_y = np.zeros((test_months-MIN, 1), dtype=np.float32)\n",
        "\n",
        "for i in range(0, test_months-MIN):\n",
        "  test_X[I, (i+MIN), 0] = test_sales_std [0:i+MIN]\n",
        "  test_y[i, 0] = test_sales_std [i+MIN]\n",
        "  \n",
        "  # Create Da# Standardize train and test data.\n",
        "# Use only training seasons to compute mean and stddev.\n",
        "mean = np.mean(train_sales)\n",
        "stddev = np.std(train_sales)\n",
        "train_sales_std = (train_sales - mean)/stddev\n",
        "test_sales_std = (test_sales - mean)/stddev\n",
        "\n",
        "# Create train examples.\n",
        "train_months = len(train_sales)\n",
        "train_X = np.zeros((train_months-MIN, train_months-1, 1), dtype=np.float32)\n",
        "train_y= np.zeros((train_months-MIN, 1), dtype=np.float32)\n",
        "for i in range(0, train_months-MIN):\n",
        "  trataset objects.\n",
        "trainset=TensorDataset (torch.from_numpy (train_X).clone(), torch.from_numpy(train_y))\n",
        "testset=TensorDataset (torch.from_numpy(test_X).clone(), torch.from_numpy(test_y))\n",
        "\n",
        "\n",
        "# Custom layer that retrieves only last time step from RNN output.\n",
        "class LastTimestep(nn. Module):\n",
        "  def forward(self, inputs):\n",
        "    return inputs [1] [0]\n",
        "# Create RNN model\n",
        "model=nn.Sequential(nn.RNN (1, 128, nonlinearity='relu', batch_first=True), \n",
        "                    LastTimestep(),\n",
        "                    nn.Linear (128, 1)\n",
        "                    \n",
        "                    )\n",
        "\n",
        "# Loss function and optimizer.\n",
        "optimizer=torch.optim.Adam(model.parameters())\n",
        "loss_function = nn.MSELoss()\n",
        "# Train model.\n",
        "train_model(model, device, EPOCHS, BATCH_SIZE, trainset, testset,optimizer, loss_function, 'mae')"
      ],
      "metadata": {
        "id": "Qo4N2-zE-vk9"
      },
      "execution_count": 16,
      "outputs": []
    },
    {
      "cell_type": "code",
      "source": [
        "# Standardize train and test data.\n",
        "# Use only training seasons to compute mean and stddev.\n",
        "mean = np.mean(train_sales)\n",
        "stddev = np.std(train_sales)\n",
        "train_sales_std = (train_sales - mean)/stddev\n",
        "test_sales_std = (test_sales - mean)/stddev\n",
        "\n",
        "# Create train examples.\n",
        "train_months = len(train_sales)\n",
        "train_X = np.zeros((train_months-MIN, train_months-1, 1), dtype=np.float32)\n",
        "train_y= np.zeros((train_months-MIN, 1), dtype=np.float32)\n",
        "for i in range(0, train_months-MIN):\n",
        "  train_X[i, -(i+MIN), 0] = train_sales_std [0:i+MIN]\n",
        "  train_y[i, 0] = train_sales_std[i+MIN]\n",
        "  # Create test examples.\n",
        "  test_months = len(test_sales)\n",
        "  test_X = np.zeros((test_months-MIN)),\n",
        "  test_y = np.zeros((test_months-MIN, 1), dtype=np.float32)\n",
        "\n",
        "for i in range(0, test_months-MIN):\n",
        "  test_X[I, (i+MIN), 0] = test_sales_std [0:i+MIN]\n",
        "  test_y[i, 0] = test_sales_std [i+MIN]\n",
        "  \n",
        "  # Create Dataset objects.\n",
        "trainset=TensorDataset (torch.from_numpy (train_X).clone(), torch.from_numpy(train_y))\n",
        "testset=TensorDataset (torch.from_numpy(test_X).clone(), torch.from_numpy(test_y))\n",
        "\n",
        "\n",
        "# Custom layer that retrieves only last time step from RNN output.\n",
        "class LastTimestep(nn. Module):\n",
        "  def forward(self, inputs):\n",
        "    return inputs [1] [0]\n",
        "# Create RNN model\n",
        "model=nn.Sequential(nn.RNN (1, 128, nonlinearity='relu', batch_first=True), \n",
        "                    LastTimestep(),\n",
        "                    nn.Linear (128, 1)\n",
        "                    \n",
        "                    )\n",
        "\n",
        "# Loss function and optimizer.\n",
        "optimizer=torch.optim.Adam(model.parameters())\n",
        "loss_function = nn.MSELoss()\n",
        "# Train model.\n",
        "train_model(model, device, EPOCHS, BATCH_SIZE, trainset, testset,optimizer, loss_function, 'mae')"
      ],
      "metadata": {
        "id": "WE8GNE1i-2qz"
      },
      "execution_count": 17,
      "outputs": []
    }
  ]
}